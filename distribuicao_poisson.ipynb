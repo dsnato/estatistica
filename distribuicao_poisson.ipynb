{
  "nbformat": 4,
  "nbformat_minor": 0,
  "metadata": {
    "colab": {
      "provenance": [],
      "authorship_tag": "ABX9TyMlyimxKMJkDZPCKvxosjja",
      "include_colab_link": true
    },
    "kernelspec": {
      "name": "python3",
      "display_name": "Python 3"
    },
    "language_info": {
      "name": "python"
    }
  },
  "cells": [
    {
      "cell_type": "markdown",
      "metadata": {
        "id": "view-in-github",
        "colab_type": "text"
      },
      "source": [
        "<a href=\"https://colab.research.google.com/github/dsnato/estatistica/blob/main/distribuicao_poisson.ipynb\" target=\"_parent\"><img src=\"https://colab.research.google.com/assets/colab-badge.svg\" alt=\"Open In Colab\"/></a>"
      ]
    },
    {
      "cell_type": "markdown",
      "source": [
        "# Formação Cientista de Dados\n",
        "## Distribuição de Poisson"
      ],
      "metadata": {
        "id": "ANbeE-rW8_St"
      }
    },
    {
      "cell_type": "code",
      "execution_count": 1,
      "metadata": {
        "id": "nYhjeV6_868D"
      },
      "outputs": [],
      "source": [
        "# Importação da função\n",
        "from scipy.stats import poisson"
      ]
    },
    {
      "cell_type": "markdown",
      "source": [
        "###### Média de acidente de carro é 2 por dia"
      ],
      "metadata": {
        "id": "--CZgN8W9EKW"
      }
    },
    {
      "cell_type": "code",
      "source": [
        "# Qual a probabilidade de ocorrerem 3 acidentes no dia?\n",
        "poisson.pmf(3, 2)"
      ],
      "metadata": {
        "colab": {
          "base_uri": "https://localhost:8080/"
        },
        "id": "kWFW7ArB9Tru",
        "outputId": "f921e9f5-527b-4ad2-ac7b-75fcbb5097b3"
      },
      "execution_count": 6,
      "outputs": [
        {
          "output_type": "execute_result",
          "data": {
            "text/plain": [
              "np.float64(0.18044704431548356)"
            ]
          },
          "metadata": {},
          "execution_count": 6
        }
      ]
    },
    {
      "cell_type": "code",
      "source": [
        "# Qual a probabilidade de ocorrerem 3 ou menos acidentes no dia?\n",
        "poisson.cdf(3, 2)"
      ],
      "metadata": {
        "colab": {
          "base_uri": "https://localhost:8080/"
        },
        "id": "ibQJxgB-9dkF",
        "outputId": "6e98f3e2-0064-4880-93d1-347bbfea9a5d"
      },
      "execution_count": 5,
      "outputs": [
        {
          "output_type": "execute_result",
          "data": {
            "text/plain": [
              "np.float64(0.857123460498547)"
            ]
          },
          "metadata": {},
          "execution_count": 5
        }
      ]
    },
    {
      "cell_type": "code",
      "source": [
        "# Qual a probabilidade de ocorrerem mais de 3 acidentes no dia?\n",
        "poisson.sf(3, 2)"
      ],
      "metadata": {
        "colab": {
          "base_uri": "https://localhost:8080/"
        },
        "id": "l-BZemMP9j8m",
        "outputId": "34744bc4-b4a0-422d-b982-c49c913fab1a"
      },
      "execution_count": 7,
      "outputs": [
        {
          "output_type": "execute_result",
          "data": {
            "text/plain": [
              "np.float64(0.14287653950145296)"
            ]
          },
          "metadata": {},
          "execution_count": 7
        }
      ]
    }
  ]
}