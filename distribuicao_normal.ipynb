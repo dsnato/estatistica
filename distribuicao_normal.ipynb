{
  "nbformat": 4,
  "nbformat_minor": 0,
  "metadata": {
    "colab": {
      "provenance": [],
      "authorship_tag": "ABX9TyPYUVG1+pXOR/P9xnCOBxEL",
      "include_colab_link": true
    },
    "kernelspec": {
      "name": "python3",
      "display_name": "Python 3"
    },
    "language_info": {
      "name": "python"
    }
  },
  "cells": [
    {
      "cell_type": "markdown",
      "metadata": {
        "id": "view-in-github",
        "colab_type": "text"
      },
      "source": [
        "<a href=\"https://colab.research.google.com/github/dsnato/estatistica/blob/main/distribuicao_normal.ipynb\" target=\"_parent\"><img src=\"https://colab.research.google.com/assets/colab-badge.svg\" alt=\"Open In Colab\"/></a>"
      ]
    },
    {
      "cell_type": "markdown",
      "source": [
        "# Formação Cientista de Dados\n",
        "## Distribuição Normal"
      ],
      "metadata": {
        "id": "rEhGarX0ZLNk"
      }
    },
    {
      "cell_type": "code",
      "execution_count": 1,
      "metadata": {
        "id": "afoadcaFZByK"
      },
      "outputs": [],
      "source": [
        "# Importação da função norm\n",
        "from scipy.stats import norm"
      ]
    },
    {
      "cell_type": "code",
      "source": [
        "# Conjunto de objetos em uma cesta, a média é 8 e o desvio padrão é 2\n",
        "# Qual a probabilidade de tirar um objeto que peso é menor que 6 quilos?\n",
        "norm.cdf(6, 8, 2)"
      ],
      "metadata": {
        "colab": {
          "base_uri": "https://localhost:8080/"
        },
        "id": "MGlKUKdxZVom",
        "outputId": "8bf40098-30f3-42b2-f729-e98d7d17ed77"
      },
      "execution_count": 3,
      "outputs": [
        {
          "output_type": "execute_result",
          "data": {
            "text/plain": [
              "np.float64(0.15865525393145707)"
            ]
          },
          "metadata": {},
          "execution_count": 3
        }
      ]
    },
    {
      "cell_type": "code",
      "source": [
        "# Qual a probabilidade de tirar um objeto que o peso é maior que 6 quilos?\n",
        "norm.sf(6, 8, 2)\n",
        "1 - norm.cdf(6, 8, 2)"
      ],
      "metadata": {
        "colab": {
          "base_uri": "https://localhost:8080/"
        },
        "id": "g4ccz9I9Zqss",
        "outputId": "11947117-efd7-42ca-e001-ec434ba1dc78"
      },
      "execution_count": 5,
      "outputs": [
        {
          "output_type": "execute_result",
          "data": {
            "text/plain": [
              "np.float64(0.8413447460685429)"
            ]
          },
          "metadata": {},
          "execution_count": 5
        }
      ]
    },
    {
      "cell_type": "code",
      "source": [
        "# Qual a probabilidade de tirar um objeto que o peso é menor que 6 ou maior que 10 quilos?\n",
        "norm.cdf(6, 8, 2) + norm.sf(10, 8, 2)"
      ],
      "metadata": {
        "colab": {
          "base_uri": "https://localhost:8080/"
        },
        "id": "Hn8VCd_MZ7mk",
        "outputId": "35359df9-a667-40a0-b520-f771f93dfe37"
      },
      "execution_count": 7,
      "outputs": [
        {
          "output_type": "execute_result",
          "data": {
            "text/plain": [
              "np.float64(0.31731050786291415)"
            ]
          },
          "metadata": {},
          "execution_count": 7
        }
      ]
    },
    {
      "cell_type": "code",
      "source": [
        "# Qual a probabilidade de tirar um objeto que o peso é menor que 10 e maior que 8 quilos?\n",
        "norm.cdf(10, 8, 2) - norm.cdf(8, 8, 2)"
      ],
      "metadata": {
        "colab": {
          "base_uri": "https://localhost:8080/"
        },
        "id": "MUwiT-kAaLez",
        "outputId": "be00969e-7b37-4c46-8207-ef4767ff2986"
      },
      "execution_count": 8,
      "outputs": [
        {
          "output_type": "execute_result",
          "data": {
            "text/plain": [
              "np.float64(0.3413447460685429)"
            ]
          },
          "metadata": {},
          "execution_count": 8
        }
      ]
    }
  ]
}