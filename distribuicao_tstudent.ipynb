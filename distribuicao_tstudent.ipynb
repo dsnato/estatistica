{
  "nbformat": 4,
  "nbformat_minor": 0,
  "metadata": {
    "colab": {
      "provenance": [],
      "authorship_tag": "ABX9TyOBfqDMA9deFxMytmE94c4p",
      "include_colab_link": true
    },
    "kernelspec": {
      "name": "python3",
      "display_name": "Python 3"
    },
    "language_info": {
      "name": "python"
    }
  },
  "cells": [
    {
      "cell_type": "markdown",
      "metadata": {
        "id": "view-in-github",
        "colab_type": "text"
      },
      "source": [
        "<a href=\"https://colab.research.google.com/github/dsnato/estatistica/blob/main/distribuicao_tstudent.ipynb\" target=\"_parent\"><img src=\"https://colab.research.google.com/assets/colab-badge.svg\" alt=\"Open In Colab\"/></a>"
      ]
    },
    {
      "cell_type": "markdown",
      "source": [
        "# Formação Cientista de Dados\n",
        "## Distribuição T Student"
      ],
      "metadata": {
        "id": "EL4VUkS8220Q"
      }
    },
    {
      "cell_type": "code",
      "execution_count": 1,
      "metadata": {
        "id": "dQqtiueU2t7-"
      },
      "outputs": [],
      "source": [
        "# Importação da função para fazer o teste\n",
        "from scipy.stats import t"
      ]
    },
    {
      "cell_type": "markdown",
      "source": [
        "###### Média de salário dos cientistas de dados = R$ 75,00 por hora Amostra com 9 funcionários e desvio padrão = 10"
      ],
      "metadata": {
        "id": "Oo9qgJq23DTm"
      }
    },
    {
      "cell_type": "code",
      "source": [
        "# Qual a probabilidade de selecionar um cientista de dados e o salário ser menor que R$ 80 por hora\n",
        "t.cdf(1.5, 8)"
      ],
      "metadata": {
        "colab": {
          "base_uri": "https://localhost:8080/"
        },
        "id": "Q_XL60TQ3ZFW",
        "outputId": "def7503f-f953-473a-f8ac-35907f5d80b7"
      },
      "execution_count": 4,
      "outputs": [
        {
          "output_type": "execute_result",
          "data": {
            "text/plain": [
              "np.float64(0.9139983540240443)"
            ]
          },
          "metadata": {},
          "execution_count": 4
        }
      ]
    },
    {
      "cell_type": "code",
      "source": [
        "# Qual a probabilidade do salário ser maior do que 80?\n",
        "t.sf(1.5, 8)"
      ],
      "metadata": {
        "colab": {
          "base_uri": "https://localhost:8080/"
        },
        "id": "FtWaKwE77hXG",
        "outputId": "ad7a221c-5433-487f-b177-587122e8f3a6"
      },
      "execution_count": 6,
      "outputs": [
        {
          "output_type": "execute_result",
          "data": {
            "text/plain": [
              "np.float64(0.08600164597595565)"
            ]
          },
          "metadata": {},
          "execution_count": 6
        }
      ]
    },
    {
      "cell_type": "code",
      "source": [
        "# Somatório da execução dos dois códgigos acima (lado esquerdo = lado direito da distribuição)\n",
        "t.cdf(1.5, 8) + t.sf(1.5, 8)"
      ],
      "metadata": {
        "colab": {
          "base_uri": "https://localhost:8080/"
        },
        "id": "5NP-qF6K7qlG",
        "outputId": "767f4ebc-2dab-490c-880b-1b1d38cc5546"
      },
      "execution_count": 7,
      "outputs": [
        {
          "output_type": "execute_result",
          "data": {
            "text/plain": [
              "np.float64(0.9999999999999999)"
            ]
          },
          "metadata": {},
          "execution_count": 7
        }
      ]
    }
  ]
}